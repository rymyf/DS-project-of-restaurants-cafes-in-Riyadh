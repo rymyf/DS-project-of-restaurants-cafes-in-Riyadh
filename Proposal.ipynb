{
 "cells": [
  {
   "cell_type": "markdown",
   "id": "3b35e117",
   "metadata": {},
   "source": [
    "# Proposal (v1): Learn About restaurants and cafes in Riyadh"
   ]
  },
  {
   "cell_type": "markdown",
   "id": "66dd138c",
   "metadata": {},
   "source": [
    "## Data Overview:\n",
    "By exploring this data, we can find out what are the good places to visit along with ratings, likes, tips and their exact location. Likewise, what are people's preferences and tastes."
   ]
  },
  {
   "cell_type": "markdown",
   "id": "e5cd269e",
   "metadata": {},
   "source": [
    "## Source:\n",
    "from Kaggle website: https://www.kaggle.com/fahd09/riyadh-restaurants-20k"
   ]
  },
  {
   "cell_type": "markdown",
   "id": "17d33d63",
   "metadata": {},
   "source": [
    "## Size of Data:\n",
    "- Number of rows: 19361 \n",
    "- Number of columns: 11"
   ]
  },
  {
   "cell_type": "markdown",
   "id": "adad154b",
   "metadata": {},
   "source": [
    "## Columns description:\n",
    "Each row is a restaurant. Columns are as follows:\n",
    "\n",
    "- name: The name of the restaurant. Some names are only available in Arabic.\n",
    "- categories: The list of categories (in English) separated by a comma.\n",
    "- address: The address according to foursquare. Unfortunately, it is the least useful column in the dataset because lots of resutrants lack a formal address. The future version of this dataset may include an enhanced address format.\n",
    "- lat: Latitude.\n",
    "- lng: Longitude.\n",
    "- price: shows the price category (Cheap, Moderate, Expensive, Very Expensive)\n",
    "- likes: The number of likes.\n",
    "- photos: The number of photos. Photos themselves are not included.\n",
    "- tips: The number of tips in Foursquare (e.g., Don't miss their pasta). Tips themselves are not included.\n",
    "- rating: The average rating out of 10.\n",
    "- ratingSignals: The number of raters."
   ]
  },
  {
   "cell_type": "markdown",
   "id": "70babf59",
   "metadata": {},
   "source": [
    "## Question:\n",
    "1. Is there a relationship between prices and ratings?\n",
    "2. Does everyone who likes the place take a photo of it?\n",
    "3. What are the most popular places?\n",
    "4. Does the location affect the prices of the place?\n",
    "5. What are the most common areas where cafes and restaurants are located?\n",
    "6. What is the ratio of restaurants to cafes?\n",
    "7. What are people's preferences for the type of restaurants?"
   ]
  },
  {
   "cell_type": "markdown",
   "id": "6d5aeec8",
   "metadata": {},
   "source": [
    "## Tools:\n",
    "- Libraries: \n",
    "pandas, numpy, matplotlib\n",
    "- Softwares: \n",
    "Visual Code, Jupyter, GitHub"
   ]
  },
  {
   "cell_type": "markdown",
   "id": "0d271575",
   "metadata": {},
   "source": [
    "## MVP goals:\n",
    "- Answer all the questions.\n",
    "- Explore the good places to visit.\n",
    "- Find out what people like."
   ]
  }
 ],
 "metadata": {
  "kernelspec": {
   "display_name": "Python 3",
   "language": "python",
   "name": "python3"
  },
  "language_info": {
   "codemirror_mode": {
    "name": "ipython",
    "version": 3
   },
   "file_extension": ".py",
   "mimetype": "text/x-python",
   "name": "python",
   "nbconvert_exporter": "python",
   "pygments_lexer": "ipython3",
   "version": "3.8.8"
  }
 },
 "nbformat": 4,
 "nbformat_minor": 5
}
