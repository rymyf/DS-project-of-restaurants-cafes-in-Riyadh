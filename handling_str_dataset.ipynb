{
 "cells": [
  {
   "cell_type": "code",
   "execution_count": 1,
   "source": [
    "import matplotlib.pyplot as plt\n",
    "import numpy as np\n",
    "import pandas as pd\n",
    "%load_ext autotime\n",
    "\n",
    "import geopandas as gpd\n",
    "import geopy\n",
    "from geopy.geocoders import Nominatim\n",
    "from geopy.extra.rate_limiter import RateLimiter\n",
    "import matplotlib.pyplot as plt\n",
    "import plotly_express as px\n",
    "import tqdm\n",
    "from tqdm import tqdm\n",
    "from tqdm._tqdm_notebook import tqdm_notebook\n",
    "\n",
    "df_dis = pd.read_csv('riyadh_resturants_clean.csv')"
   ],
   "outputs": [
    {
     "output_type": "stream",
     "name": "stdout",
     "text": [
      "time: 1.07 s (started: 2021-11-14 00:23:52 +03:00)\n"
     ]
    }
   ],
   "metadata": {}
  },
  {
   "cell_type": "markdown",
   "source": [
    "# Drop all Un-necessary data:"
   ],
   "metadata": {}
  },
  {
   "cell_type": "code",
   "execution_count": 2,
   "source": [
    "# Drop all null values in price column\n",
    "df_dis.dropna(subset=['price'],inplace=True)\n",
    "df_dis.price.isna().sum()"
   ],
   "outputs": [
    {
     "output_type": "execute_result",
     "data": {
      "text/plain": [
       "0"
      ]
     },
     "metadata": {},
     "execution_count": 2
    },
    {
     "output_type": "stream",
     "name": "stdout",
     "text": [
      "time: 75.6 ms (started: 2021-11-14 00:23:53 +03:00)\n"
     ]
    }
   ],
   "metadata": {}
  },
  {
   "cell_type": "code",
   "execution_count": 3,
   "source": [
    "# Drop all Un-necessary categories\n",
    "df_dis = df_dis[~ df_dis.categories.str.contains('Molecular')]\n",
    "df_dis = df_dis[~ df_dis.categories.str.contains('Deli')]\n",
    "df_dis = df_dis[~ df_dis.categories.str.contains('Diner')]\n",
    "df_dis = df_dis[~ df_dis.categories.str.contains('Dim')]\n",
    "df_dis = df_dis[~ df_dis.categories.str.contains('Australian')]\n",
    "df_dis = df_dis[~ df_dis.categories.str.contains('Soup')]\n",
    "df_dis = df_dis[~ df_dis.categories.str.contains('Gastropub')]\n",
    "df_dis = df_dis[~ df_dis.categories.str.contains('Persian')]\n",
    "df_dis = df_dis[~ df_dis.categories.str.contains('Scandinavian')]\n",
    "df_dis = df_dis[~ df_dis.categories.str.startswith('Restaurant')]"
   ],
   "outputs": [
    {
     "output_type": "stream",
     "name": "stdout",
     "text": [
      "time: 186 ms (started: 2021-11-14 00:23:53 +03:00)\n"
     ]
    }
   ],
   "metadata": {}
  },
  {
   "cell_type": "markdown",
   "source": [
    "# Handle the Inconsistent categories:\n",
    "\n",
    "__Here I recategoraized the data based on category type and their names.__"
   ],
   "metadata": {}
  },
  {
   "cell_type": "code",
   "execution_count": 4,
   "source": [
    "df_dis.loc[df_dis.name.str.contains('saadeddin')|df_dis.name.str.contains('سعد الدين')|df_dis.name.str.contains('sweet')|\n",
    "df_dis.categories.str.contains('essert')|df_dis.name.str.contains('حلوي')|df_dis.name.str.contains('حلى')|df_dis.name.str.contains('شوكولات')|\n",
    "df_dis.categories.str.contains('Donut') | df_dis.categories.str.contains('Cupcake'), 'categories'] = \"Dessert Shop\" "
   ],
   "outputs": [
    {
     "output_type": "stream",
     "name": "stdout",
     "text": [
      "time: 121 ms (started: 2021-11-14 00:23:54 +03:00)\n"
     ]
    }
   ],
   "metadata": {}
  },
  {
   "cell_type": "code",
   "execution_count": 5,
   "source": [
    "df_dis.loc[df_dis.name.str.contains('hawarma')|df_dis.categories.str.contains('hawarma')|df_dis.name.str.contains('شاورما'),'categories'] = 'Shawarma Restaurant'"
   ],
   "outputs": [
    {
     "output_type": "stream",
     "name": "stdout",
     "text": [
      "time: 44.7 ms (started: 2021-11-14 00:23:54 +03:00)\n"
     ]
    }
   ],
   "metadata": {}
  },
  {
   "cell_type": "code",
   "execution_count": 6,
   "source": [
    "df_dis.loc[df_dis.categories.str.contains('offee')|df_dis.categories.str.contains('Caf')|df_dis.name.str.contains('كافي') |\n",
    "df_dis.categories.str.contains('Tea'), 'categories'] = \"Cafe\""
   ],
   "outputs": [
    {
     "output_type": "stream",
     "name": "stdout",
     "text": [
      "time: 56.1 ms (started: 2021-11-14 00:23:54 +03:00)\n"
     ]
    }
   ],
   "metadata": {}
  },
  {
   "cell_type": "code",
   "execution_count": 7,
   "source": [
    "df_dis.loc[df_dis.categories.str.contains('uice')|df_dis.categories.str.contains('rink')|df_dis.name.str.contains('عص'), 'categories'] = \"Drink Shop\""
   ],
   "outputs": [
    {
     "output_type": "stream",
     "name": "stdout",
     "text": [
      "time: 39.6 ms (started: 2021-11-14 00:23:54 +03:00)\n"
     ]
    }
   ],
   "metadata": {}
  },
  {
   "cell_type": "code",
   "execution_count": 8,
   "source": [
    "df_dis.loc[ df_dis.categories.str.contains('Sandwich') | df_dis.name.str.contains('andwich') | \n",
    "df_dis.categories.str.contains('Breakfast') | df_dis.categories.str.contains('Pie'), 'categories'] = \"Sandwich Restaurant\""
   ],
   "outputs": [
    {
     "output_type": "stream",
     "name": "stdout",
     "text": [
      "time: 42.8 ms (started: 2021-11-14 00:23:54 +03:00)\n"
     ]
    }
   ],
   "metadata": {}
  },
  {
   "cell_type": "code",
   "execution_count": 9,
   "source": [
    "df_dis.loc[df_dis.categories.str.contains('merican')| df_dis.categories.str.contains('urger')| df_dis.name.str.contains('urger')| \n",
    "df_dis.name.str.contains('برجر')| df_dis.categories.str.contains('Fast')| df_dis.categories.str.contains('Wings')| \n",
    "df_dis.categories.str.contains('Fried Chicken')| df_dis.categories.str.contains('Mac & Cheese Joint')|\n",
    "df_dis.categories.str.contains('Hot Dog Joint') , 'categories'] = 'Fast Food Restaurant'"
   ],
   "outputs": [
    {
     "output_type": "stream",
     "name": "stdout",
     "text": [
      "time: 109 ms (started: 2021-11-14 00:23:54 +03:00)\n"
     ]
    }
   ],
   "metadata": {}
  },
  {
   "cell_type": "code",
   "execution_count": 10,
   "source": [
    "df_dis.loc[df_dis.categories.str.contains('Ice')|df_dis.categories.str.contains('ream') |df_dis.categories.str.contains('Frozen Yogurt') |\n",
    "df_dis.name.str.contains('كريم'), 'categories'] = \"Ice Cream Shop\""
   ],
   "outputs": [
    {
     "output_type": "stream",
     "name": "stdout",
     "text": [
      "time: 50.2 ms (started: 2021-11-14 00:23:54 +03:00)\n"
     ]
    }
   ],
   "metadata": {}
  },
  {
   "cell_type": "code",
   "execution_count": 11,
   "source": [
    "df_dis.loc[ df_dis.categories.str.contains('talian')| df_dis.categories.str.contains('izza')| df_dis.name.str.contains('بيتزا'), 'categories'] = 'Italian Restaurant'"
   ],
   "outputs": [
    {
     "output_type": "stream",
     "name": "stdout",
     "text": [
      "time: 37.2 ms (started: 2021-11-14 00:23:54 +03:00)\n"
     ]
    }
   ],
   "metadata": {}
  },
  {
   "cell_type": "code",
   "execution_count": 12,
   "source": [
    "df_dis.loc[df_dis.categories.str.contains('eafood')| df_dis.categories.str.contains('Fish')|df_dis.categories.str.contains('fish')| \n",
    "df_dis.categories.str.contains('Sushi') | df_dis.name.str.contains('سمك'), 'categories'] = 'Seafood Restaurant'"
   ],
   "outputs": [
    {
     "output_type": "stream",
     "name": "stdout",
     "text": [
      "time: 52.7 ms (started: 2021-11-14 00:23:55 +03:00)\n"
     ]
    }
   ],
   "metadata": {}
  },
  {
   "cell_type": "code",
   "execution_count": 13,
   "source": [
    "df_dis.loc[ df_dis.categories.str.contains('Asian')|df_dis.categories.str.contains('Middle Eastern Restaurant')| \n",
    "df_dis.categories.str.contains('Falafel') | df_dis.categories.str.contains('Southern') ,'categories'] = 'Arabic Restaurant'"
   ],
   "outputs": [
    {
     "output_type": "stream",
     "name": "stdout",
     "text": [
      "time: 49.4 ms (started: 2021-11-14 00:23:55 +03:00)\n"
     ]
    }
   ],
   "metadata": {}
  },
  {
   "cell_type": "code",
   "execution_count": 14,
   "source": [
    "df_dis.loc[ df_dis.name.str.contains('hinese')| df_dis.categories.str.contains('Noodle')| df_dis.categories.str.contains('hinese')| \n",
    "df_dis.categories.str.contains('Jap')|df_dis.categories.str.contains('Filipino') |df_dis.categories.str.contains('Vietnamese')| df_dis.categories.str.contains('Malay')|\n",
    "df_dis.categories.str.contains('Indonesian') |df_dis.categories.str.contains('Korean')|df_dis.categories.str.contains('Mongolian') | df_dis.categories.str.contains('Thai') | \n",
    "df_dis.name.str.contains('اسيوي'), 'categories'] = 'Asian Restaurant'"
   ],
   "outputs": [
    {
     "output_type": "stream",
     "name": "stdout",
     "text": [
      "time: 160 ms (started: 2021-11-14 00:23:55 +03:00)\n"
     ]
    }
   ],
   "metadata": {}
  },
  {
   "cell_type": "code",
   "execution_count": 15,
   "source": [
    "df_dis.loc[df_dis.categories.str.contains('BBQ')|df_dis.categories.str.contains('Lebanese')| df_dis.categories.str.contains('Steakhouse')|\n",
    "df_dis.categories.str.contains('Kebab')|df_dis.name.str.contains('لبنان'), 'categories'] = 'BBQ Restaurant'"
   ],
   "outputs": [
    {
     "output_type": "stream",
     "name": "stdout",
     "text": [
      "time: 58.7 ms (started: 2021-11-14 00:23:55 +03:00)\n"
     ]
    }
   ],
   "metadata": {}
  },
  {
   "cell_type": "code",
   "execution_count": 16,
   "source": [
    "df_dis.loc[ df_dis.categories.str.contains('Bakery')| df_dis.categories.str.contains('Bagel')|\n",
    "df_dis.categories.str.contains('Pastry')|df_dis.name.str.contains('خابز'), 'categories'] = 'Bakery Shop'"
   ],
   "outputs": [
    {
     "output_type": "stream",
     "name": "stdout",
     "text": [
      "time: 40.4 ms (started: 2021-11-14 00:23:55 +03:00)\n"
     ]
    }
   ],
   "metadata": {}
  },
  {
   "cell_type": "code",
   "execution_count": 17,
   "source": [
    "df_dis.loc[df_dis.name.str.contains('خضار')|df_dis.name.str.contains('زراعي') |\n",
    "df_dis.categories.str.contains('Vegetarian / Vegan Restaurant') | df_dis.name.str.contains('بنده'), 'categories'] = 'Grocery Shop'"
   ],
   "outputs": [
    {
     "output_type": "stream",
     "name": "stdout",
     "text": [
      "time: 42.5 ms (started: 2021-11-14 00:23:55 +03:00)\n"
     ]
    }
   ],
   "metadata": {}
  },
  {
   "cell_type": "code",
   "execution_count": 18,
   "source": [
    "df_dis.loc[ (df_dis.categories.str.contains('Vegetarian')|df_dis.categories.str.contains('Vegan')|df_dis.categories.str.contains('Vegetarian / Vegan') |df_dis.categories.str.contains('Salad')|\n",
    "df_dis.categories.str.contains('Health')| df_dis.categories.str.contains('Snack')|df_dis.categories.str.contains('Gluten') ) \n",
    "& ~ df_dis.name.str.contains('هايبر'), 'categories'] = 'Healthy Food Restaurant'"
   ],
   "outputs": [
    {
     "output_type": "stream",
     "name": "stdout",
     "text": [
      "time: 92.7 ms (started: 2021-11-14 00:23:56 +03:00)\n"
     ]
    }
   ],
   "metadata": {}
  },
  {
   "cell_type": "code",
   "execution_count": 19,
   "source": [
    "df_dis.loc[ df_dis.categories.str.contains('Food Truck')| df_dis.categories.str.contains('Truck')| \n",
    "df_dis.name.str.contains('فود ترك')| df_dis.name.str.contains('Truck'), \"categories\"] = 'Food Truck'"
   ],
   "outputs": [
    {
     "output_type": "stream",
     "name": "stdout",
     "text": [
      "time: 41.5 ms (started: 2021-11-14 00:23:56 +03:00)\n"
     ]
    }
   ],
   "metadata": {}
  },
  {
   "cell_type": "code",
   "execution_count": 20,
   "source": [
    "df_dis.loc[ df_dis.categories.str.contains('Lounge') | df_dis.name.str.contains('Lounge'), \"categories\"] = 'Lounge Restaurant'"
   ],
   "outputs": [
    {
     "output_type": "stream",
     "name": "stdout",
     "text": [
      "time: 28.8 ms (started: 2021-11-14 00:23:56 +03:00)\n"
     ]
    }
   ],
   "metadata": {}
  },
  {
   "cell_type": "code",
   "execution_count": 21,
   "source": [
    "df_dis.loc[ df_dis.categories.str.contains('Mexican')| df_dis.categories.str.contains('Burrito') |df_dis.name.str.contains('Taco') | \n",
    "df_dis.categories.str.contains('Taco'), \"categories\"] = 'Mexican Restaurant'"
   ],
   "outputs": [
    {
     "output_type": "stream",
     "name": "stdout",
     "text": [
      "time: 45 ms (started: 2021-11-14 00:23:56 +03:00)\n"
     ]
    }
   ],
   "metadata": {}
  },
  {
   "cell_type": "code",
   "execution_count": 22,
   "source": [
    "df_dis.loc[df_dis.categories.str.contains('Afghan') | df_dis.name.str.contains('فلافل')| df_dis.categories.str.contains('Dumpling') | \n",
    "df_dis.categories.str.contains('Arepa') , \"categories\"] = 'Arabic Restaurant'"
   ],
   "outputs": [
    {
     "output_type": "stream",
     "name": "stdout",
     "text": [
      "time: 44.1 ms (started: 2021-11-14 00:23:56 +03:00)\n"
     ]
    }
   ],
   "metadata": {}
  },
  {
   "cell_type": "code",
   "execution_count": 23,
   "source": [
    "df_dis.loc[ df_dis.categories.str.contains('Indian') | df_dis.name.str.contains('هندي'), 'categories'] = 'Indian Restaurant'"
   ],
   "outputs": [
    {
     "output_type": "stream",
     "name": "stdout",
     "text": [
      "time: 27.4 ms (started: 2021-11-14 00:23:57 +03:00)\n"
     ]
    }
   ],
   "metadata": {}
  },
  {
   "cell_type": "code",
   "execution_count": 24,
   "source": [
    "df_dis.loc[df_dis.categories.str.contains('African')| df_dis.categories.str.contains('Egypt')| df_dis.categories.str.contains('Ethiopian')|df_dis.categories.str.contains('Moroccan')| \n",
    "df_dis.name.str.contains('افريقي')| df_dis.name.str.contains('مصري')| df_dis.name.str.contains('سوداني'), 'categories'] = 'African Restaurant'"
   ],
   "outputs": [
    {
     "output_type": "stream",
     "name": "stdout",
     "text": [
      "time: 111 ms (started: 2021-11-14 00:23:57 +03:00)\n"
     ]
    }
   ],
   "metadata": {}
  },
  {
   "cell_type": "code",
   "execution_count": 25,
   "source": [
    "df_dis.loc[ df_dis.categories.str.contains('Turkish') | \n",
    "df_dis.categories.str.contains('Swiss')  |\n",
    "df_dis.categories.str.contains('Portuguese') |\n",
    "df_dis.categories.str.contains('Spanish') | \n",
    "df_dis.categories.str.contains('Tapas') |\n",
    "df_dis.categories.str.contains('German') |\n",
    "df_dis.categories.str.contains('European') |\n",
    "df_dis.categories.str.contains('Mediterranean') |\n",
    "df_dis.categories.str.contains('Armenian') |\n",
    "df_dis.categories.str.contains('Greek'), 'categories'] = 'European Restaurant'"
   ],
   "outputs": [
    {
     "output_type": "stream",
     "name": "stdout",
     "text": [
      "time: 140 ms (started: 2021-11-14 00:23:57 +03:00)\n"
     ]
    }
   ],
   "metadata": {}
  },
  {
   "cell_type": "code",
   "execution_count": 26,
   "source": [
    "df_dis.loc[ df_dis.categories.str.contains('Peruvian')  |\n",
    "df_dis.categories.str.contains('Portuguese') |\n",
    "df_dis.categories.str.contains('Argentinian') |\n",
    "df_dis.categories.str.contains('Brazilian') |\n",
    "df_dis.categories.str.contains('Caribbean') |\n",
    "df_dis.categories.str.contains('Mediterranean') |\n",
    "df_dis.categories.str.contains('Cuban') |\n",
    "df_dis.categories.str.contains('Caucasian') , 'categories'] = 'American Restaurant'"
   ],
   "outputs": [
    {
     "output_type": "stream",
     "name": "stdout",
     "text": [
      "time: 215 ms (started: 2021-11-14 00:23:57 +03:00)\n"
     ]
    }
   ],
   "metadata": {}
  },
  {
   "cell_type": "markdown",
   "source": [
    "# How many category/rows we have now?"
   ],
   "metadata": {}
  },
  {
   "cell_type": "code",
   "execution_count": 27,
   "source": [
    "df_dis.categories.nunique()"
   ],
   "outputs": [
    {
     "output_type": "execute_result",
     "data": {
      "text/plain": [
       "23"
      ]
     },
     "metadata": {},
     "execution_count": 27
    },
    {
     "output_type": "stream",
     "name": "stdout",
     "text": [
      "time: 7.87 ms (started: 2021-11-14 00:23:58 +03:00)\n"
     ]
    }
   ],
   "metadata": {}
  },
  {
   "cell_type": "code",
   "execution_count": 28,
   "source": [
    "df_dis.categories.unique()"
   ],
   "outputs": [
    {
     "output_type": "execute_result",
     "data": {
      "text/plain": [
       "array(['Arabic Restaurant', 'Cafe', 'Dessert Shop', 'Ice Cream Shop',\n",
       "       'Fast Food Restaurant', 'Sandwich Restaurant',\n",
       "       'Italian Restaurant', 'Bakery Shop', 'Drink Shop',\n",
       "       'Seafood Restaurant', 'BBQ Restaurant', 'European Restaurant',\n",
       "       'Indian Restaurant', 'Food Truck', 'Asian Restaurant',\n",
       "       'Healthy Food Restaurant', 'Shawarma Restaurant', 'Grocery Shop',\n",
       "       'African Restaurant', 'American Restaurant', 'Mexican Restaurant',\n",
       "       'French Restaurant', 'Lounge Restaurant'], dtype=object)"
      ]
     },
     "metadata": {},
     "execution_count": 28
    },
    {
     "output_type": "stream",
     "name": "stdout",
     "text": [
      "time: 5.85 ms (started: 2021-11-14 00:23:58 +03:00)\n"
     ]
    }
   ],
   "metadata": {}
  },
  {
   "cell_type": "code",
   "execution_count": 29,
   "source": [
    "df_dis.shape"
   ],
   "outputs": [
    {
     "output_type": "execute_result",
     "data": {
      "text/plain": [
       "(16879, 11)"
      ]
     },
     "metadata": {},
     "execution_count": 29
    },
    {
     "output_type": "stream",
     "name": "stdout",
     "text": [
      "time: 4.7 ms (started: 2021-11-14 00:23:58 +03:00)\n"
     ]
    }
   ],
   "metadata": {}
  },
  {
   "cell_type": "markdown",
   "source": [
    "# Export the handled dataset for continue project:"
   ],
   "metadata": {}
  },
  {
   "cell_type": "code",
   "execution_count": 30,
   "source": [
    "df_dis.to_excel(\"handled_dataset.xlsx\")"
   ],
   "outputs": [
    {
     "output_type": "stream",
     "name": "stdout",
     "text": [
      "time: 5.5 s (started: 2021-11-14 00:29:58 +03:00)\n"
     ]
    }
   ],
   "metadata": {}
  }
 ],
 "metadata": {
  "orig_nbformat": 4,
  "language_info": {
   "name": "python",
   "version": "3.8.8",
   "mimetype": "text/x-python",
   "codemirror_mode": {
    "name": "ipython",
    "version": 3
   },
   "pygments_lexer": "ipython3",
   "nbconvert_exporter": "python",
   "file_extension": ".py"
  },
  "kernelspec": {
   "name": "python3",
   "display_name": "Python 3.8.8 64-bit ('base': conda)"
  },
  "interpreter": {
   "hash": "02495d29313117b835fb996e7e36ad55cea9dc34c2bf0c6e07df9f87183e9ff3"
  }
 },
 "nbformat": 4,
 "nbformat_minor": 2
}